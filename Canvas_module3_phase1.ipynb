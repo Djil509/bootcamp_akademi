{
 "cells": [
  {
   "cell_type": "markdown",
   "id": "e363a8a4-d5c3-4890-ab53-207ab11460a4",
   "metadata": {},
   "source": [
    "Python Data Types and Control Structures"
   ]
  },
  {
   "cell_type": "code",
   "execution_count": 5,
   "id": "2b2a1c43-0c05-4a7c-9298-c4a7e6bd1d92",
   "metadata": {
    "scrolled": true
   },
   "outputs": [
    {
     "name": "stdout",
     "output_type": "stream",
     "text": [
      "[{'color': 'green', 'number': 7}, {'color': 'red', 'number': 2}, {'color': 'orange', 'number': 1}]\n"
     ]
    }
   ],
   "source": [
    "Info_table = [\n",
    "        {\"color\": \"green\", \"number\": 7},\n",
    "        {\"color\": \"red\", \"number\": 2},\n",
    "        {\"color\": \"orange\", \"number\": 1}\n",
    "                ]\n",
    "type(Info_table)\n",
    "print(Info_table)"
   ]
  },
  {
   "cell_type": "code",
   "execution_count": 11,
   "id": "b0da748f-d6c1-4ffa-a59f-2c049a1f8685",
   "metadata": {},
   "outputs": [
    {
     "name": "stdout",
     "output_type": "stream",
     "text": [
      "green\n",
      "red\n",
      "orange\n"
     ]
    }
   ],
   "source": [
    "for i in Info_table:\n",
    "    print(i[\"color\"])"
   ]
  },
  {
   "cell_type": "code",
   "execution_count": 12,
   "id": "a40851a3-a339-48ce-b0c5-38f834f7afb9",
   "metadata": {},
   "outputs": [
    {
     "name": "stdout",
     "output_type": "stream",
     "text": [
      "7\n",
      "2\n",
      "1\n"
     ]
    }
   ],
   "source": [
    "for i in Info_table:\n",
    "    print(i[\"number\"])"
   ]
  },
  {
   "cell_type": "markdown",
   "id": "bce464e8-a8ba-41a8-8560-be62991b352f",
   "metadata": {},
   "source": [
    "In later sections of this course, that same task (printing the list of colors) might look something like this, using the pandaslibrary:"
   ]
  },
  {
   "cell_type": "code",
   "execution_count": 14,
   "id": "ba26d8f9-dc71-4a4c-ab08-2aaed629610c",
   "metadata": {},
   "outputs": [
    {
     "data": {
      "text/plain": [
       "pandas.core.frame.DataFrame"
      ]
     },
     "execution_count": 14,
     "metadata": {},
     "output_type": "execute_result"
    }
   ],
   "source": [
    "import pandas as pd\n",
    "df = pd.DataFrame(Info_table)\n",
    "type(df)"
   ]
  },
  {
   "cell_type": "code",
   "execution_count": 15,
   "id": "1e0ac709-24ed-4e09-aa60-401fb8c4acc3",
   "metadata": {},
   "outputs": [
    {
     "name": "stdout",
     "output_type": "stream",
     "text": [
      "0     green\n",
      "1       red\n",
      "2    orange\n",
      "Name: color, dtype: object\n"
     ]
    }
   ],
   "source": [
    "print(df[\"color\"])"
   ]
  },
  {
   "cell_type": "raw",
   "id": "779aa76f-69e9-4059-80f9-c580ff645fbe",
   "metadata": {},
   "source": []
  },
  {
   "cell_type": "raw",
   "id": "2719d8ff-1f8b-4d35-aeed-ff0e04584506",
   "metadata": {},
   "source": []
  },
  {
   "cell_type": "markdown",
   "id": "2cdeaaed-5281-4f5f-887d-b913b5d82a0a",
   "metadata": {},
   "source": [
    "Loading Data from Files"
   ]
  },
  {
   "cell_type": "code",
   "execution_count": 32,
   "id": "66f9d1b9-1513-4fdd-a8bd-de1c5cdaf7cf",
   "metadata": {},
   "outputs": [
    {
     "name": "stdout",
     "output_type": "stream",
     "text": [
      "Total apple tree weight: 4001\n",
      "Maximum apple tree weight: 5.79071359\n",
      "Minimum apple tree weight: \n"
     ]
    }
   ],
   "source": [
    "import csv\n",
    "with open(r\"C:\\Users\\djilw\\Downloads\\archive\\apple_quality.csv\") as f:\n",
    "    apple_orchard_data = list(csv.DictReader(f))\n",
    "    #apple_tree_weight = [float(x[\"Weight\"]) for x in apple_orchard_data]\n",
    "    #print(apple_tree_weight)\n",
    "    print(\"Total apple tree weight:\", len(apple_tree_weight))\n",
    "    #print(\"Average apple tree weight:\", sum(apple_tree_weight)) #/ len(apple_tree_weight))\n",
    "    print(\"Maximum apple tree weight:\", max(apple_tree_weight))\n",
    "    print(\"Minimum apple tree weight:\", min(apple_tree_weight))"
   ]
  },
  {
   "cell_type": "raw",
   "id": "135b865d-c0dc-4f92-9fb8-10e29c3f34de",
   "metadata": {},
   "source": [
    "\n"
   ]
  },
  {
   "cell_type": "markdown",
   "id": "45db1828-3226-45d3-830c-70a0fcb5b959",
   "metadata": {},
   "source": [
    "use a list comprehension to take the first character of each string from the following list of words:"
   ]
  },
  {
   "cell_type": "code",
   "execution_count": 2,
   "id": "70617d15-2a5c-4d46-851a-d7595e4619f6",
   "metadata": {},
   "outputs": [
    {
     "data": {
      "text/plain": [
       "'0x27360432a40'"
      ]
     },
     "execution_count": 2,
     "metadata": {},
     "output_type": "execute_result"
    }
   ],
   "source": [
    "words = ['richard', 'pierre', 'jean', 'jacques']\n",
    "[x[0] for x in words]\n",
    "hex(id(words))"
   ]
  },
  {
   "cell_type": "code",
   "execution_count": 4,
   "id": "bbfa7f6d-359a-4616-9c6c-8e30be97da56",
   "metadata": {},
   "outputs": [
    {
     "data": {
      "text/plain": [
       "['jean?', 'jacques?']"
      ]
     },
     "execution_count": 4,
     "metadata": {},
     "output_type": "execute_result"
    }
   ],
   "source": [
    "[x+'?' for x in words if x[0]=='j']"
   ]
  },
  {
   "cell_type": "code",
   "execution_count": 7,
   "id": "f7980bd7-49c6-48ed-a5a5-7d87d834d836",
   "metadata": {},
   "outputs": [],
   "source": [
    "file_obj = open(file_path)"
   ]
  },
  {
   "cell_type": "code",
   "execution_count": 8,
   "id": "fb70bb1b-c249-4add-8c27-6d1aa0abccfc",
   "metadata": {},
   "outputs": [
    {
     "data": {
      "text/plain": [
       "_io.TextIOWrapper"
      ]
     },
     "execution_count": 8,
     "metadata": {},
     "output_type": "execute_result"
    }
   ],
   "source": [
    "type(file_obj)"
   ]
  },
  {
   "cell_type": "code",
   "execution_count": 9,
   "id": "c79c54f3-9adc-4d55-886e-fc2ed9dab8a5",
   "metadata": {},
   "outputs": [
    {
     "name": "stdout",
     "output_type": "stream",
     "text": [
      "<_io.TextIOWrapper name='pyton.ipynb' mode='r' encoding='cp1252'>\n"
     ]
    }
   ],
   "source": [
    "print(file_obj)"
   ]
  },
  {
   "cell_type": "code",
   "execution_count": 10,
   "id": "8cbe3c03-cf29-47af-ae73-7f5f1770107e",
   "metadata": {},
   "outputs": [],
   "source": [
    "file_contents = file_obj.readlines()"
   ]
  },
  {
   "cell_type": "code",
   "execution_count": 11,
   "id": "ebad3dfc-dcaf-4c78-9584-6710ce89f0cf",
   "metadata": {},
   "outputs": [
    {
     "data": {
      "text/plain": [
       "list"
      ]
     },
     "execution_count": 11,
     "metadata": {},
     "output_type": "execute_result"
    }
   ],
   "source": [
    "type(file_contents)"
   ]
  },
  {
   "cell_type": "code",
   "execution_count": null,
   "id": "26130078-7417-498d-87b5-60a971634585",
   "metadata": {},
   "outputs": [],
   "source": []
  }
 ],
 "metadata": {
  "kernelspec": {
   "display_name": "Python (learn-env)",
   "language": "python",
   "name": "learn-env"
  },
  "language_info": {
   "codemirror_mode": {
    "name": "ipython",
    "version": 3
   },
   "file_extension": ".py",
   "mimetype": "text/x-python",
   "name": "python",
   "nbconvert_exporter": "python",
   "pygments_lexer": "ipython3",
   "version": "3.12.7"
  }
 },
 "nbformat": 4,
 "nbformat_minor": 5
}
